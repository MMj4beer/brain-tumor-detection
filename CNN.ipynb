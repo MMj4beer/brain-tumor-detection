{
 "cells": [
  {
   "cell_type": "markdown",
   "id": "a14c9244",
   "metadata": {},
   "source": [
    "## Importing the Library"
   ]
  },
  {
   "cell_type": "code",
   "execution_count": 2,
   "id": "9f1d951f",
   "metadata": {},
   "outputs": [],
   "source": [
    "import tensorflow as tf\n",
    "from tensorflow.keras.preprocessing.image import ImageDataGenerator"
   ]
  },
  {
   "cell_type": "code",
   "execution_count": 4,
   "id": "43726caa",
   "metadata": {},
   "outputs": [
    {
     "data": {
      "text/plain": [
       "'2.4.1'"
      ]
     },
     "execution_count": 4,
     "metadata": {},
     "output_type": "execute_result"
    }
   ],
   "source": [
    "tf.__version__"
   ]
  },
  {
   "cell_type": "markdown",
   "id": "48bb766b",
   "metadata": {},
   "source": [
    "## Data Preprocessing to Training and Testing"
   ]
  },
  {
   "cell_type": "code",
   "execution_count": 5,
   "id": "1e9d8bf8",
   "metadata": {},
   "outputs": [],
   "source": [
    "train_datagen = ImageDataGenerator(rescale=1./255,\n",
    "                                  shear_range=0.2,\n",
    "                                  zoom_range=0.2,\n",
    "                                  horizontal_flip=True)"
   ]
  },
  {
   "cell_type": "code",
   "execution_count": 6,
   "id": "fa438fb1",
   "metadata": {},
   "outputs": [
    {
     "name": "stdout",
     "output_type": "stream",
     "text": [
      "Found 201 images belonging to 2 classes.\n"
     ]
    }
   ],
   "source": [
    "training_set = train_datagen.flow_from_directory('dataset/training_set/',\n",
    "                                                target_size=(64,64),\n",
    "                                                batch_size=32,\n",
    "                                                class_mode='binary')"
   ]
  },
  {
   "cell_type": "code",
   "execution_count": 7,
   "id": "3d319459",
   "metadata": {},
   "outputs": [
    {
     "name": "stdout",
     "output_type": "stream",
     "text": [
      "Found 51 images belonging to 2 classes.\n"
     ]
    }
   ],
   "source": [
    "test_datagen = ImageDataGenerator(rescale=1./255)\n",
    "test_set = test_datagen.flow_from_directory('dataset/test_set/',\n",
    "                                           target_size=(64,64),\n",
    "                                           batch_size=32,\n",
    "                                           class_mode='binary')"
   ]
  },
  {
   "cell_type": "markdown",
   "id": "ee798110",
   "metadata": {},
   "source": [
    "# Building the CNN "
   ]
  },
  {
   "cell_type": "markdown",
   "id": "5add53ec",
   "metadata": {},
   "source": [
    "## initilaizing cnn"
   ]
  },
  {
   "cell_type": "code",
   "execution_count": 8,
   "id": "e28ba07d",
   "metadata": {},
   "outputs": [],
   "source": [
    "cnn = tf.keras.models.Sequential()"
   ]
  },
  {
   "cell_type": "code",
   "execution_count": 12,
   "id": "6b81403b",
   "metadata": {},
   "outputs": [],
   "source": [
    "cnn.add(tf.keras.layers.Conv2D(filters=32, kernel_size=3, activation='relu', input_shape=[64,64,3]))\n",
    "\n"
   ]
  },
  {
   "cell_type": "code",
   "execution_count": 13,
   "id": "f7b8ec41",
   "metadata": {},
   "outputs": [],
   "source": [
    "cnn.add(tf.keras.layers.MaxPool2D(pool_size=2, strides=2))"
   ]
  },
  {
   "cell_type": "code",
   "execution_count": 14,
   "id": "79fb7b60",
   "metadata": {},
   "outputs": [],
   "source": [
    "cnn.add(tf.keras.layers.Conv2D(filters=32, kernel_size=3, activation='relu'))\n",
    "cnn.add(tf.keras.layers.MaxPool2D(pool_size=2, strides=2))"
   ]
  },
  {
   "cell_type": "code",
   "execution_count": 15,
   "id": "165c9f45",
   "metadata": {},
   "outputs": [],
   "source": [
    "cnn.add(tf.keras.layers.Flatten())"
   ]
  },
  {
   "cell_type": "code",
   "execution_count": 16,
   "id": "cdc0faee",
   "metadata": {},
   "outputs": [],
   "source": [
    "cnn.add(tf.keras.layers.Dense(units=158, activation='relu'))"
   ]
  },
  {
   "cell_type": "code",
   "execution_count": 17,
   "id": "f4cf7de2",
   "metadata": {},
   "outputs": [],
   "source": [
    "cnn.add(tf.keras.layers.Dense(units=1, activation='sigmoid'))"
   ]
  },
  {
   "cell_type": "markdown",
   "id": "cf02cd0b",
   "metadata": {},
   "source": [
    "# Comiling and Training CNN"
   ]
  },
  {
   "cell_type": "code",
   "execution_count": 18,
   "id": "c5599e31",
   "metadata": {},
   "outputs": [],
   "source": [
    "cnn.compile(optimizer='adam', loss = 'binary_crossentropy', metrics=['accuracy'])"
   ]
  },
  {
   "cell_type": "code",
   "execution_count": 20,
   "id": "a0680777",
   "metadata": {},
   "outputs": [
    {
     "name": "stdout",
     "output_type": "stream",
     "text": [
      "Epoch 1/231\n",
      "7/7 [==============================] - 1s 176ms/step - loss: 0.4869 - accuracy: 0.7761 - val_loss: 0.4968 - val_accuracy: 0.7647\n",
      "Epoch 2/231\n",
      "7/7 [==============================] - 1s 161ms/step - loss: 0.5033 - accuracy: 0.7512 - val_loss: 0.6292 - val_accuracy: 0.6275\n",
      "Epoch 3/231\n",
      "7/7 [==============================] - 1s 158ms/step - loss: 0.4435 - accuracy: 0.8308 - val_loss: 0.5504 - val_accuracy: 0.7059\n",
      "Epoch 4/231\n",
      "7/7 [==============================] - 1s 157ms/step - loss: 0.4320 - accuracy: 0.7960 - val_loss: 0.6181 - val_accuracy: 0.6667\n",
      "Epoch 5/231\n",
      "7/7 [==============================] - 1s 159ms/step - loss: 0.4585 - accuracy: 0.7662 - val_loss: 0.5585 - val_accuracy: 0.7059\n",
      "Epoch 6/231\n",
      "7/7 [==============================] - 1s 157ms/step - loss: 0.4149 - accuracy: 0.8010 - val_loss: 0.5928 - val_accuracy: 0.6667\n",
      "Epoch 7/231\n",
      "7/7 [==============================] - 1s 161ms/step - loss: 0.3973 - accuracy: 0.8159 - val_loss: 0.6796 - val_accuracy: 0.6078\n",
      "Epoch 8/231\n",
      "7/7 [==============================] - 1s 164ms/step - loss: 0.3949 - accuracy: 0.8408 - val_loss: 0.5947 - val_accuracy: 0.6863\n",
      "Epoch 9/231\n",
      "7/7 [==============================] - 1s 164ms/step - loss: 0.3842 - accuracy: 0.8308 - val_loss: 0.5355 - val_accuracy: 0.7059\n",
      "Epoch 10/231\n",
      "7/7 [==============================] - 1s 163ms/step - loss: 0.4173 - accuracy: 0.8308 - val_loss: 0.6014 - val_accuracy: 0.7255\n",
      "Epoch 11/231\n",
      "7/7 [==============================] - 1s 184ms/step - loss: 0.3598 - accuracy: 0.8408 - val_loss: 0.5003 - val_accuracy: 0.7451\n",
      "Epoch 12/231\n",
      "7/7 [==============================] - 1s 165ms/step - loss: 0.3781 - accuracy: 0.8259 - val_loss: 0.5870 - val_accuracy: 0.6667\n",
      "Epoch 13/231\n",
      "7/7 [==============================] - 1s 177ms/step - loss: 0.3374 - accuracy: 0.8856 - val_loss: 0.6054 - val_accuracy: 0.7059\n",
      "Epoch 14/231\n",
      "7/7 [==============================] - 1s 212ms/step - loss: 0.3489 - accuracy: 0.8756 - val_loss: 0.6582 - val_accuracy: 0.6667\n",
      "Epoch 15/231\n",
      "7/7 [==============================] - 1s 199ms/step - loss: 0.2988 - accuracy: 0.8756 - val_loss: 0.6101 - val_accuracy: 0.7059\n",
      "Epoch 16/231\n",
      "7/7 [==============================] - 1s 225ms/step - loss: 0.3760 - accuracy: 0.8358 - val_loss: 0.6079 - val_accuracy: 0.6471\n",
      "Epoch 17/231\n",
      "7/7 [==============================] - 1s 202ms/step - loss: 0.3608 - accuracy: 0.8607 - val_loss: 0.6140 - val_accuracy: 0.7059\n",
      "Epoch 18/231\n",
      "7/7 [==============================] - 1s 198ms/step - loss: 0.3252 - accuracy: 0.8706 - val_loss: 0.8439 - val_accuracy: 0.6471\n",
      "Epoch 19/231\n",
      "7/7 [==============================] - 1s 219ms/step - loss: 0.3176 - accuracy: 0.8806 - val_loss: 0.5432 - val_accuracy: 0.7255\n",
      "Epoch 20/231\n",
      "7/7 [==============================] - 1s 204ms/step - loss: 0.2996 - accuracy: 0.8806 - val_loss: 0.5415 - val_accuracy: 0.7255\n",
      "Epoch 21/231\n",
      "7/7 [==============================] - 1s 219ms/step - loss: 0.2709 - accuracy: 0.8856 - val_loss: 0.6826 - val_accuracy: 0.7059\n",
      "Epoch 22/231\n",
      "7/7 [==============================] - 1s 197ms/step - loss: 0.2983 - accuracy: 0.8955 - val_loss: 0.5858 - val_accuracy: 0.7451\n",
      "Epoch 23/231\n",
      "7/7 [==============================] - 1s 200ms/step - loss: 0.2804 - accuracy: 0.8905 - val_loss: 0.5206 - val_accuracy: 0.7451\n",
      "Epoch 24/231\n",
      "7/7 [==============================] - 1s 218ms/step - loss: 0.2636 - accuracy: 0.8756 - val_loss: 0.5235 - val_accuracy: 0.7451\n",
      "Epoch 25/231\n",
      "7/7 [==============================] - 1s 199ms/step - loss: 0.3470 - accuracy: 0.8756 - val_loss: 0.5673 - val_accuracy: 0.7647\n",
      "Epoch 26/231\n",
      "7/7 [==============================] - 1s 192ms/step - loss: 0.3011 - accuracy: 0.8905 - val_loss: 0.5509 - val_accuracy: 0.7451\n",
      "Epoch 27/231\n",
      "7/7 [==============================] - 1s 201ms/step - loss: 0.2809 - accuracy: 0.8955 - val_loss: 0.5530 - val_accuracy: 0.7451\n",
      "Epoch 28/231\n",
      "7/7 [==============================] - 1s 195ms/step - loss: 0.3153 - accuracy: 0.9005 - val_loss: 0.5687 - val_accuracy: 0.7451\n",
      "Epoch 29/231\n",
      "7/7 [==============================] - 1s 196ms/step - loss: 0.2772 - accuracy: 0.8856 - val_loss: 0.5380 - val_accuracy: 0.7647\n",
      "Epoch 30/231\n",
      "7/7 [==============================] - 1s 218ms/step - loss: 0.3744 - accuracy: 0.8607 - val_loss: 0.6562 - val_accuracy: 0.7451\n",
      "Epoch 31/231\n",
      "7/7 [==============================] - 1s 194ms/step - loss: 0.2758 - accuracy: 0.8806 - val_loss: 0.5269 - val_accuracy: 0.7451\n",
      "Epoch 32/231\n",
      "7/7 [==============================] - 1s 196ms/step - loss: 0.2368 - accuracy: 0.9055 - val_loss: 0.5815 - val_accuracy: 0.7451\n",
      "Epoch 33/231\n",
      "7/7 [==============================] - 1s 195ms/step - loss: 0.2046 - accuracy: 0.9104 - val_loss: 0.6460 - val_accuracy: 0.6863\n",
      "Epoch 34/231\n",
      "7/7 [==============================] - 1s 195ms/step - loss: 0.2112 - accuracy: 0.9254 - val_loss: 0.4046 - val_accuracy: 0.8431\n",
      "Epoch 35/231\n",
      "7/7 [==============================] - 1s 199ms/step - loss: 0.2320 - accuracy: 0.8806 - val_loss: 0.8149 - val_accuracy: 0.7255\n",
      "Epoch 36/231\n",
      "7/7 [==============================] - 1s 194ms/step - loss: 0.2436 - accuracy: 0.8955 - val_loss: 0.4360 - val_accuracy: 0.7647\n",
      "Epoch 37/231\n",
      "7/7 [==============================] - 1s 200ms/step - loss: 0.2188 - accuracy: 0.9254 - val_loss: 0.6523 - val_accuracy: 0.7255\n",
      "Epoch 38/231\n",
      "7/7 [==============================] - 1s 200ms/step - loss: 0.1616 - accuracy: 0.9303 - val_loss: 0.5022 - val_accuracy: 0.7647\n",
      "Epoch 39/231\n",
      "7/7 [==============================] - 1s 199ms/step - loss: 0.1407 - accuracy: 0.9453 - val_loss: 0.5470 - val_accuracy: 0.8627\n",
      "Epoch 40/231\n",
      "7/7 [==============================] - 1s 219ms/step - loss: 0.1951 - accuracy: 0.9353 - val_loss: 0.6096 - val_accuracy: 0.8431\n",
      "Epoch 41/231\n",
      "7/7 [==============================] - 1s 198ms/step - loss: 0.1163 - accuracy: 0.9652 - val_loss: 0.6137 - val_accuracy: 0.7255\n",
      "Epoch 42/231\n",
      "7/7 [==============================] - 1s 201ms/step - loss: 0.1497 - accuracy: 0.9552 - val_loss: 0.6057 - val_accuracy: 0.8039\n",
      "Epoch 43/231\n",
      "7/7 [==============================] - 1s 199ms/step - loss: 0.2047 - accuracy: 0.9353 - val_loss: 0.5298 - val_accuracy: 0.8235\n",
      "Epoch 44/231\n",
      "7/7 [==============================] - 1s 201ms/step - loss: 0.1696 - accuracy: 0.9403 - val_loss: 0.4093 - val_accuracy: 0.8431\n",
      "Epoch 45/231\n",
      "7/7 [==============================] - 2s 216ms/step - loss: 0.1113 - accuracy: 0.9652 - val_loss: 0.4442 - val_accuracy: 0.8431\n",
      "Epoch 46/231\n",
      "7/7 [==============================] - 1s 201ms/step - loss: 0.1234 - accuracy: 0.9602 - val_loss: 0.6421 - val_accuracy: 0.7843\n",
      "Epoch 47/231\n",
      "7/7 [==============================] - 1s 201ms/step - loss: 0.1379 - accuracy: 0.9502 - val_loss: 0.5350 - val_accuracy: 0.8235\n",
      "Epoch 48/231\n",
      "7/7 [==============================] - 1s 198ms/step - loss: 0.1201 - accuracy: 0.9502 - val_loss: 0.5682 - val_accuracy: 0.8039\n",
      "Epoch 49/231\n",
      "7/7 [==============================] - 1s 198ms/step - loss: 0.1405 - accuracy: 0.9502 - val_loss: 0.7997 - val_accuracy: 0.7843\n",
      "Epoch 50/231\n",
      "7/7 [==============================] - 1s 200ms/step - loss: 0.1495 - accuracy: 0.9552 - val_loss: 0.4253 - val_accuracy: 0.8627\n",
      "Epoch 51/231\n",
      "7/7 [==============================] - 1s 198ms/step - loss: 0.1467 - accuracy: 0.9303 - val_loss: 0.3211 - val_accuracy: 0.9020\n",
      "Epoch 52/231\n",
      "7/7 [==============================] - 1s 197ms/step - loss: 0.1155 - accuracy: 0.9701 - val_loss: 0.6164 - val_accuracy: 0.8039\n",
      "Epoch 53/231\n",
      "7/7 [==============================] - 1s 219ms/step - loss: 0.1266 - accuracy: 0.9502 - val_loss: 0.7843 - val_accuracy: 0.7451\n",
      "Epoch 54/231\n",
      "7/7 [==============================] - 1s 218ms/step - loss: 0.1218 - accuracy: 0.9652 - val_loss: 0.4395 - val_accuracy: 0.8235\n",
      "Epoch 55/231\n",
      "7/7 [==============================] - 1s 203ms/step - loss: 0.0965 - accuracy: 0.9701 - val_loss: 0.5126 - val_accuracy: 0.7647\n",
      "Epoch 56/231\n",
      "7/7 [==============================] - 1s 198ms/step - loss: 0.0606 - accuracy: 0.9851 - val_loss: 0.6517 - val_accuracy: 0.7647\n",
      "Epoch 57/231\n",
      "7/7 [==============================] - 1s 197ms/step - loss: 0.0972 - accuracy: 0.9751 - val_loss: 0.4867 - val_accuracy: 0.8824\n",
      "Epoch 58/231\n",
      "7/7 [==============================] - 1s 204ms/step - loss: 0.0955 - accuracy: 0.9801 - val_loss: 0.5904 - val_accuracy: 0.8039\n"
     ]
    },
    {
     "name": "stdout",
     "output_type": "stream",
     "text": [
      "Epoch 59/231\n",
      "7/7 [==============================] - 1s 205ms/step - loss: 0.0855 - accuracy: 0.9701 - val_loss: 0.5031 - val_accuracy: 0.8235\n",
      "Epoch 60/231\n",
      "7/7 [==============================] - 1s 198ms/step - loss: 0.0814 - accuracy: 0.9652 - val_loss: 0.6903 - val_accuracy: 0.7451\n",
      "Epoch 61/231\n",
      "7/7 [==============================] - 1s 201ms/step - loss: 0.0854 - accuracy: 0.9602 - val_loss: 0.6397 - val_accuracy: 0.8627\n",
      "Epoch 62/231\n",
      "7/7 [==============================] - 1s 197ms/step - loss: 0.0767 - accuracy: 0.9801 - val_loss: 0.6415 - val_accuracy: 0.7647\n",
      "Epoch 63/231\n",
      "7/7 [==============================] - 1s 196ms/step - loss: 0.0385 - accuracy: 0.9900 - val_loss: 0.6507 - val_accuracy: 0.7843\n",
      "Epoch 64/231\n",
      "7/7 [==============================] - 1s 197ms/step - loss: 0.0603 - accuracy: 0.9851 - val_loss: 0.5074 - val_accuracy: 0.8039\n",
      "Epoch 65/231\n",
      "7/7 [==============================] - 1s 199ms/step - loss: 0.0671 - accuracy: 0.9801 - val_loss: 0.8565 - val_accuracy: 0.7451\n",
      "Epoch 66/231\n",
      "7/7 [==============================] - 1s 195ms/step - loss: 0.0488 - accuracy: 0.9851 - val_loss: 0.7726 - val_accuracy: 0.7647\n",
      "Epoch 67/231\n",
      "7/7 [==============================] - 1s 200ms/step - loss: 0.0557 - accuracy: 0.9801 - val_loss: 0.9117 - val_accuracy: 0.7647\n",
      "Epoch 68/231\n",
      "7/7 [==============================] - 1s 201ms/step - loss: 0.0767 - accuracy: 0.9602 - val_loss: 0.4892 - val_accuracy: 0.8431\n",
      "Epoch 69/231\n",
      "7/7 [==============================] - 1s 195ms/step - loss: 0.0525 - accuracy: 0.9851 - val_loss: 0.5011 - val_accuracy: 0.8039\n",
      "Epoch 70/231\n",
      "7/7 [==============================] - 1s 200ms/step - loss: 0.0954 - accuracy: 0.9751 - val_loss: 0.7268 - val_accuracy: 0.8235\n",
      "Epoch 71/231\n",
      "7/7 [==============================] - 1s 196ms/step - loss: 0.0998 - accuracy: 0.9602 - val_loss: 1.1329 - val_accuracy: 0.7255\n",
      "Epoch 72/231\n",
      "7/7 [==============================] - 1s 215ms/step - loss: 0.0834 - accuracy: 0.9701 - val_loss: 0.7515 - val_accuracy: 0.7647\n",
      "Epoch 73/231\n",
      "7/7 [==============================] - 1s 195ms/step - loss: 0.0627 - accuracy: 0.9801 - val_loss: 0.5636 - val_accuracy: 0.8039\n",
      "Epoch 74/231\n",
      "7/7 [==============================] - 1s 217ms/step - loss: 0.0549 - accuracy: 0.9801 - val_loss: 0.5981 - val_accuracy: 0.8235\n",
      "Epoch 75/231\n",
      "7/7 [==============================] - 1s 198ms/step - loss: 0.0415 - accuracy: 0.9851 - val_loss: 0.7312 - val_accuracy: 0.7843\n",
      "Epoch 76/231\n",
      "7/7 [==============================] - 1s 217ms/step - loss: 0.0588 - accuracy: 0.9751 - val_loss: 0.5614 - val_accuracy: 0.8235\n",
      "Epoch 77/231\n",
      "7/7 [==============================] - 1s 215ms/step - loss: 0.0465 - accuracy: 0.9900 - val_loss: 0.8607 - val_accuracy: 0.7843\n",
      "Epoch 78/231\n",
      "7/7 [==============================] - 1s 199ms/step - loss: 0.0385 - accuracy: 0.9851 - val_loss: 0.7044 - val_accuracy: 0.8039\n",
      "Epoch 79/231\n",
      "7/7 [==============================] - 1s 193ms/step - loss: 0.0556 - accuracy: 0.9751 - val_loss: 1.0621 - val_accuracy: 0.7451\n",
      "Epoch 80/231\n",
      "7/7 [==============================] - 1s 201ms/step - loss: 0.0197 - accuracy: 1.0000 - val_loss: 1.3430 - val_accuracy: 0.7255\n",
      "Epoch 81/231\n",
      "7/7 [==============================] - 1s 199ms/step - loss: 0.0325 - accuracy: 0.9900 - val_loss: 1.1239 - val_accuracy: 0.7451\n",
      "Epoch 82/231\n",
      "7/7 [==============================] - 1s 214ms/step - loss: 0.0941 - accuracy: 0.9602 - val_loss: 0.9988 - val_accuracy: 0.7451\n",
      "Epoch 83/231\n",
      "7/7 [==============================] - 1s 195ms/step - loss: 0.0377 - accuracy: 0.9900 - val_loss: 0.6152 - val_accuracy: 0.8039\n",
      "Epoch 84/231\n",
      "7/7 [==============================] - 1s 197ms/step - loss: 0.0913 - accuracy: 0.9801 - val_loss: 0.9444 - val_accuracy: 0.7451\n",
      "Epoch 85/231\n",
      "7/7 [==============================] - 1s 195ms/step - loss: 0.0368 - accuracy: 0.9851 - val_loss: 0.9459 - val_accuracy: 0.7647\n",
      "Epoch 86/231\n",
      "7/7 [==============================] - 1s 199ms/step - loss: 0.0194 - accuracy: 1.0000 - val_loss: 1.0525 - val_accuracy: 0.7451\n",
      "Epoch 87/231\n",
      "7/7 [==============================] - 1s 200ms/step - loss: 0.0311 - accuracy: 0.9950 - val_loss: 0.7607 - val_accuracy: 0.8235\n",
      "Epoch 88/231\n",
      "7/7 [==============================] - 1s 219ms/step - loss: 0.0113 - accuracy: 1.0000 - val_loss: 0.8331 - val_accuracy: 0.7843\n",
      "Epoch 89/231\n",
      "7/7 [==============================] - 1s 195ms/step - loss: 0.0279 - accuracy: 0.9851 - val_loss: 1.1246 - val_accuracy: 0.7255\n",
      "Epoch 90/231\n",
      "7/7 [==============================] - 1s 218ms/step - loss: 0.0229 - accuracy: 0.9900 - val_loss: 0.8564 - val_accuracy: 0.8039\n",
      "Epoch 91/231\n",
      "7/7 [==============================] - 1s 200ms/step - loss: 0.0895 - accuracy: 0.9851 - val_loss: 1.1673 - val_accuracy: 0.7451\n",
      "Epoch 92/231\n",
      "7/7 [==============================] - 1s 199ms/step - loss: 0.0133 - accuracy: 0.9950 - val_loss: 0.6057 - val_accuracy: 0.8235\n",
      "Epoch 93/231\n",
      "7/7 [==============================] - 1s 201ms/step - loss: 0.0210 - accuracy: 1.0000 - val_loss: 0.5947 - val_accuracy: 0.8627\n",
      "Epoch 94/231\n",
      "7/7 [==============================] - 1s 193ms/step - loss: 0.0227 - accuracy: 0.9950 - val_loss: 0.6084 - val_accuracy: 0.8431\n",
      "Epoch 95/231\n",
      "7/7 [==============================] - 1s 201ms/step - loss: 0.0778 - accuracy: 0.9801 - val_loss: 1.1939 - val_accuracy: 0.7647\n",
      "Epoch 96/231\n",
      "7/7 [==============================] - 1s 220ms/step - loss: 0.0294 - accuracy: 0.9900 - val_loss: 0.8846 - val_accuracy: 0.8039\n",
      "Epoch 97/231\n",
      "7/7 [==============================] - 1s 198ms/step - loss: 0.0527 - accuracy: 0.9701 - val_loss: 1.1340 - val_accuracy: 0.7451\n",
      "Epoch 98/231\n",
      "7/7 [==============================] - 1s 198ms/step - loss: 0.0526 - accuracy: 0.9851 - val_loss: 0.7067 - val_accuracy: 0.8627\n",
      "Epoch 99/231\n",
      "7/7 [==============================] - 1s 199ms/step - loss: 0.0209 - accuracy: 0.9950 - val_loss: 1.0145 - val_accuracy: 0.8039\n",
      "Epoch 100/231\n",
      "7/7 [==============================] - 1s 197ms/step - loss: 0.0368 - accuracy: 0.9801 - val_loss: 0.7825 - val_accuracy: 0.8824\n",
      "Epoch 101/231\n",
      "7/7 [==============================] - 1s 198ms/step - loss: 0.0422 - accuracy: 0.9900 - val_loss: 0.8565 - val_accuracy: 0.7843\n",
      "Epoch 102/231\n",
      "7/7 [==============================] - 1s 198ms/step - loss: 0.0135 - accuracy: 1.0000 - val_loss: 1.2008 - val_accuracy: 0.7059\n",
      "Epoch 103/231\n",
      "7/7 [==============================] - 1s 196ms/step - loss: 0.0441 - accuracy: 0.9751 - val_loss: 0.8390 - val_accuracy: 0.8431\n",
      "Epoch 104/231\n",
      "7/7 [==============================] - 1s 203ms/step - loss: 0.0232 - accuracy: 0.9900 - val_loss: 1.3664 - val_accuracy: 0.7255\n",
      "Epoch 105/231\n",
      "7/7 [==============================] - 1s 198ms/step - loss: 0.0283 - accuracy: 0.9900 - val_loss: 1.0250 - val_accuracy: 0.8235\n",
      "Epoch 106/231\n",
      "7/7 [==============================] - 1s 201ms/step - loss: 0.0148 - accuracy: 1.0000 - val_loss: 0.9558 - val_accuracy: 0.8431\n",
      "Epoch 107/231\n",
      "7/7 [==============================] - 1s 201ms/step - loss: 0.0274 - accuracy: 0.9900 - val_loss: 0.9676 - val_accuracy: 0.8627\n",
      "Epoch 108/231\n",
      "7/7 [==============================] - 1s 220ms/step - loss: 0.0444 - accuracy: 0.9900 - val_loss: 1.2092 - val_accuracy: 0.7647\n",
      "Epoch 109/231\n",
      "7/7 [==============================] - 1s 198ms/step - loss: 0.0292 - accuracy: 0.9900 - val_loss: 1.1391 - val_accuracy: 0.8039\n",
      "Epoch 110/231\n",
      "7/7 [==============================] - 1s 199ms/step - loss: 0.0222 - accuracy: 0.9900 - val_loss: 0.8357 - val_accuracy: 0.8235\n",
      "Epoch 111/231\n",
      "7/7 [==============================] - 1s 201ms/step - loss: 0.0227 - accuracy: 0.9950 - val_loss: 0.9040 - val_accuracy: 0.7843\n",
      "Epoch 112/231\n",
      "7/7 [==============================] - 1s 204ms/step - loss: 0.0172 - accuracy: 0.9950 - val_loss: 0.7139 - val_accuracy: 0.8824\n",
      "Epoch 113/231\n",
      "7/7 [==============================] - 1s 198ms/step - loss: 0.0108 - accuracy: 1.0000 - val_loss: 0.8368 - val_accuracy: 0.8235\n",
      "Epoch 114/231\n",
      "7/7 [==============================] - 1s 200ms/step - loss: 0.0112 - accuracy: 0.9950 - val_loss: 1.0267 - val_accuracy: 0.7647\n",
      "Epoch 115/231\n",
      "7/7 [==============================] - 1s 197ms/step - loss: 0.0086 - accuracy: 1.0000 - val_loss: 1.1519 - val_accuracy: 0.7647\n",
      "Epoch 116/231\n"
     ]
    },
    {
     "name": "stdout",
     "output_type": "stream",
     "text": [
      "7/7 [==============================] - 1s 197ms/step - loss: 0.0101 - accuracy: 1.0000 - val_loss: 1.0939 - val_accuracy: 0.7843\n",
      "Epoch 117/231\n",
      "7/7 [==============================] - 1s 193ms/step - loss: 0.0028 - accuracy: 1.0000 - val_loss: 1.0579 - val_accuracy: 0.8235\n",
      "Epoch 118/231\n",
      "7/7 [==============================] - 1s 199ms/step - loss: 0.0062 - accuracy: 1.0000 - val_loss: 1.0184 - val_accuracy: 0.8235\n",
      "Epoch 119/231\n",
      "7/7 [==============================] - 1s 218ms/step - loss: 0.0043 - accuracy: 1.0000 - val_loss: 0.9847 - val_accuracy: 0.8431\n",
      "Epoch 120/231\n",
      "7/7 [==============================] - 1s 199ms/step - loss: 0.0016 - accuracy: 1.0000 - val_loss: 0.9501 - val_accuracy: 0.8235\n",
      "Epoch 121/231\n",
      "7/7 [==============================] - 1s 199ms/step - loss: 0.0022 - accuracy: 1.0000 - val_loss: 0.9659 - val_accuracy: 0.8235\n",
      "Epoch 122/231\n",
      "7/7 [==============================] - 1s 199ms/step - loss: 0.0116 - accuracy: 0.9950 - val_loss: 1.2935 - val_accuracy: 0.7451\n",
      "Epoch 123/231\n",
      "7/7 [==============================] - 1s 203ms/step - loss: 0.0083 - accuracy: 1.0000 - val_loss: 1.2497 - val_accuracy: 0.7451\n",
      "Epoch 124/231\n",
      "7/7 [==============================] - 1s 195ms/step - loss: 0.0079 - accuracy: 1.0000 - val_loss: 1.0828 - val_accuracy: 0.8235\n",
      "Epoch 125/231\n",
      "7/7 [==============================] - 1s 198ms/step - loss: 0.0067 - accuracy: 1.0000 - val_loss: 0.9957 - val_accuracy: 0.8039\n",
      "Epoch 126/231\n",
      "7/7 [==============================] - 1s 196ms/step - loss: 0.0060 - accuracy: 1.0000 - val_loss: 1.0735 - val_accuracy: 0.8235\n",
      "Epoch 127/231\n",
      "7/7 [==============================] - 1s 197ms/step - loss: 0.0158 - accuracy: 0.9950 - val_loss: 1.1717 - val_accuracy: 0.8039\n",
      "Epoch 128/231\n",
      "7/7 [==============================] - 1s 197ms/step - loss: 0.0146 - accuracy: 0.9950 - val_loss: 1.5553 - val_accuracy: 0.7255\n",
      "Epoch 129/231\n",
      "7/7 [==============================] - 1s 215ms/step - loss: 0.0129 - accuracy: 0.9950 - val_loss: 0.8471 - val_accuracy: 0.8627\n",
      "Epoch 130/231\n",
      "7/7 [==============================] - 1s 198ms/step - loss: 0.0125 - accuracy: 0.9950 - val_loss: 1.0047 - val_accuracy: 0.8627\n",
      "Epoch 131/231\n",
      "7/7 [==============================] - 1s 220ms/step - loss: 0.0064 - accuracy: 1.0000 - val_loss: 1.3792 - val_accuracy: 0.7451\n",
      "Epoch 132/231\n",
      "7/7 [==============================] - 1s 200ms/step - loss: 0.0039 - accuracy: 1.0000 - val_loss: 1.3674 - val_accuracy: 0.7843\n",
      "Epoch 133/231\n",
      "7/7 [==============================] - 1s 199ms/step - loss: 0.0012 - accuracy: 1.0000 - val_loss: 1.3525 - val_accuracy: 0.7843\n",
      "Epoch 134/231\n",
      "7/7 [==============================] - 1s 196ms/step - loss: 0.0069 - accuracy: 0.9950 - val_loss: 1.2826 - val_accuracy: 0.8039\n",
      "Epoch 135/231\n",
      "7/7 [==============================] - 1s 206ms/step - loss: 0.0030 - accuracy: 1.0000 - val_loss: 1.2795 - val_accuracy: 0.8039\n",
      "Epoch 136/231\n",
      "7/7 [==============================] - 1s 194ms/step - loss: 0.0031 - accuracy: 1.0000 - val_loss: 1.0808 - val_accuracy: 0.8235\n",
      "Epoch 137/231\n",
      "7/7 [==============================] - 1s 196ms/step - loss: 0.0016 - accuracy: 1.0000 - val_loss: 1.0617 - val_accuracy: 0.8235\n",
      "Epoch 138/231\n",
      "7/7 [==============================] - 1s 197ms/step - loss: 0.0020 - accuracy: 1.0000 - val_loss: 1.2860 - val_accuracy: 0.8235\n",
      "Epoch 139/231\n",
      "7/7 [==============================] - 1s 197ms/step - loss: 0.0016 - accuracy: 1.0000 - val_loss: 1.5973 - val_accuracy: 0.7451\n",
      "Epoch 140/231\n",
      "7/7 [==============================] - 1s 194ms/step - loss: 0.0025 - accuracy: 1.0000 - val_loss: 1.5138 - val_accuracy: 0.7647\n",
      "Epoch 141/231\n",
      "7/7 [==============================] - 1s 198ms/step - loss: 0.0040 - accuracy: 1.0000 - val_loss: 1.1321 - val_accuracy: 0.8235\n",
      "Epoch 142/231\n",
      "7/7 [==============================] - 1s 207ms/step - loss: 0.0034 - accuracy: 1.0000 - val_loss: 1.1353 - val_accuracy: 0.8039\n",
      "Epoch 143/231\n",
      "7/7 [==============================] - 1s 210ms/step - loss: 0.0093 - accuracy: 0.9950 - val_loss: 0.8000 - val_accuracy: 0.8824\n",
      "Epoch 144/231\n",
      "7/7 [==============================] - 1s 202ms/step - loss: 0.0146 - accuracy: 0.9900 - val_loss: 1.8472 - val_accuracy: 0.7255\n",
      "Epoch 145/231\n",
      "7/7 [==============================] - 1s 201ms/step - loss: 0.0112 - accuracy: 0.9950 - val_loss: 1.8366 - val_accuracy: 0.7843\n",
      "Epoch 146/231\n",
      "7/7 [==============================] - 1s 201ms/step - loss: 0.0140 - accuracy: 0.9950 - val_loss: 1.2891 - val_accuracy: 0.8039\n",
      "Epoch 147/231\n",
      "7/7 [==============================] - 1s 199ms/step - loss: 0.0159 - accuracy: 1.0000 - val_loss: 0.9055 - val_accuracy: 0.8431\n",
      "Epoch 148/231\n",
      "7/7 [==============================] - 1s 200ms/step - loss: 0.0369 - accuracy: 0.9851 - val_loss: 1.0702 - val_accuracy: 0.8235\n",
      "Epoch 149/231\n",
      "7/7 [==============================] - 1s 219ms/step - loss: 0.0253 - accuracy: 0.9900 - val_loss: 1.1957 - val_accuracy: 0.7647\n",
      "Epoch 150/231\n",
      "7/7 [==============================] - 1s 198ms/step - loss: 0.0208 - accuracy: 0.9900 - val_loss: 1.0608 - val_accuracy: 0.8431\n",
      "Epoch 151/231\n",
      "7/7 [==============================] - 1s 219ms/step - loss: 0.0609 - accuracy: 0.9801 - val_loss: 2.3584 - val_accuracy: 0.6863\n",
      "Epoch 152/231\n",
      "7/7 [==============================] - 1s 197ms/step - loss: 0.0412 - accuracy: 0.9751 - val_loss: 1.0567 - val_accuracy: 0.8235\n",
      "Epoch 153/231\n",
      "7/7 [==============================] - 1s 198ms/step - loss: 0.1384 - accuracy: 0.9303 - val_loss: 1.9586 - val_accuracy: 0.6667\n",
      "Epoch 154/231\n",
      "7/7 [==============================] - 1s 202ms/step - loss: 0.0570 - accuracy: 0.9701 - val_loss: 1.4911 - val_accuracy: 0.7059\n",
      "Epoch 155/231\n",
      "7/7 [==============================] - 1s 193ms/step - loss: 0.0116 - accuracy: 0.9950 - val_loss: 1.7147 - val_accuracy: 0.7059\n",
      "Epoch 156/231\n",
      "7/7 [==============================] - 1s 193ms/step - loss: 0.0160 - accuracy: 1.0000 - val_loss: 2.1282 - val_accuracy: 0.6863\n",
      "Epoch 157/231\n",
      "7/7 [==============================] - 1s 221ms/step - loss: 0.0284 - accuracy: 0.9851 - val_loss: 1.1174 - val_accuracy: 0.8431\n",
      "Epoch 158/231\n",
      "7/7 [==============================] - 1s 190ms/step - loss: 0.0440 - accuracy: 0.9801 - val_loss: 1.3560 - val_accuracy: 0.7843\n",
      "Epoch 159/231\n",
      "7/7 [==============================] - 1s 197ms/step - loss: 0.0951 - accuracy: 0.9652 - val_loss: 2.5419 - val_accuracy: 0.6471\n",
      "Epoch 160/231\n",
      "7/7 [==============================] - 1s 201ms/step - loss: 0.1116 - accuracy: 0.9602 - val_loss: 0.9005 - val_accuracy: 0.8627\n",
      "Epoch 161/231\n",
      "7/7 [==============================] - 1s 201ms/step - loss: 0.0670 - accuracy: 0.9701 - val_loss: 1.3012 - val_accuracy: 0.7059\n",
      "Epoch 162/231\n",
      "7/7 [==============================] - 1s 218ms/step - loss: 0.0408 - accuracy: 0.9900 - val_loss: 1.0096 - val_accuracy: 0.8039\n",
      "Epoch 163/231\n",
      "7/7 [==============================] - 1s 220ms/step - loss: 0.0554 - accuracy: 0.9801 - val_loss: 1.2298 - val_accuracy: 0.6863\n",
      "Epoch 164/231\n",
      "7/7 [==============================] - 1s 196ms/step - loss: 0.0236 - accuracy: 0.9950 - val_loss: 1.1219 - val_accuracy: 0.7843\n",
      "Epoch 165/231\n",
      "7/7 [==============================] - 1s 201ms/step - loss: 0.0417 - accuracy: 0.9851 - val_loss: 1.3342 - val_accuracy: 0.7451\n",
      "Epoch 166/231\n",
      "7/7 [==============================] - 1s 196ms/step - loss: 0.0174 - accuracy: 0.9950 - val_loss: 1.1087 - val_accuracy: 0.8039\n",
      "Epoch 167/231\n",
      "7/7 [==============================] - 1s 200ms/step - loss: 0.0195 - accuracy: 0.9900 - val_loss: 1.3480 - val_accuracy: 0.7843\n",
      "Epoch 168/231\n",
      "7/7 [==============================] - 1s 218ms/step - loss: 0.0120 - accuracy: 0.9950 - val_loss: 1.0812 - val_accuracy: 0.8235\n",
      "Epoch 169/231\n",
      "7/7 [==============================] - 1s 200ms/step - loss: 0.0088 - accuracy: 1.0000 - val_loss: 1.2597 - val_accuracy: 0.8431\n",
      "Epoch 170/231\n",
      "7/7 [==============================] - 1s 198ms/step - loss: 0.0231 - accuracy: 0.9950 - val_loss: 1.2364 - val_accuracy: 0.8039\n",
      "Epoch 171/231\n",
      "7/7 [==============================] - 1s 198ms/step - loss: 0.0080 - accuracy: 1.0000 - val_loss: 1.2169 - val_accuracy: 0.8235\n",
      "Epoch 172/231\n",
      "7/7 [==============================] - 1s 194ms/step - loss: 0.0187 - accuracy: 0.9950 - val_loss: 1.7064 - val_accuracy: 0.7451\n",
      "Epoch 173/231\n"
     ]
    },
    {
     "name": "stdout",
     "output_type": "stream",
     "text": [
      "7/7 [==============================] - 1s 215ms/step - loss: 0.0250 - accuracy: 0.9950 - val_loss: 1.4244 - val_accuracy: 0.7647\n",
      "Epoch 174/231\n",
      "7/7 [==============================] - 1s 196ms/step - loss: 0.0160 - accuracy: 0.9950 - val_loss: 1.2649 - val_accuracy: 0.8235\n",
      "Epoch 175/231\n",
      "7/7 [==============================] - 1s 192ms/step - loss: 0.0253 - accuracy: 0.9950 - val_loss: 1.5761 - val_accuracy: 0.7255\n",
      "Epoch 176/231\n",
      "7/7 [==============================] - 1s 197ms/step - loss: 0.0076 - accuracy: 1.0000 - val_loss: 1.6496 - val_accuracy: 0.7451\n",
      "Epoch 177/231\n",
      "7/7 [==============================] - 1s 190ms/step - loss: 0.0087 - accuracy: 1.0000 - val_loss: 1.2352 - val_accuracy: 0.8431\n",
      "Epoch 178/231\n",
      "7/7 [==============================] - 1s 216ms/step - loss: 0.0049 - accuracy: 1.0000 - val_loss: 1.2300 - val_accuracy: 0.8627\n",
      "Epoch 179/231\n",
      "7/7 [==============================] - 1s 191ms/step - loss: 0.0090 - accuracy: 0.9950 - val_loss: 1.1024 - val_accuracy: 0.8627\n",
      "Epoch 180/231\n",
      "7/7 [==============================] - 1s 191ms/step - loss: 0.0056 - accuracy: 1.0000 - val_loss: 1.1060 - val_accuracy: 0.8627\n",
      "Epoch 181/231\n",
      "7/7 [==============================] - 1s 199ms/step - loss: 0.0061 - accuracy: 1.0000 - val_loss: 1.1207 - val_accuracy: 0.8627\n",
      "Epoch 182/231\n",
      "7/7 [==============================] - 1s 197ms/step - loss: 0.0058 - accuracy: 1.0000 - val_loss: 1.2799 - val_accuracy: 0.8431\n",
      "Epoch 183/231\n",
      "7/7 [==============================] - 1s 199ms/step - loss: 0.0139 - accuracy: 0.9950 - val_loss: 1.2673 - val_accuracy: 0.8431\n",
      "Epoch 184/231\n",
      "7/7 [==============================] - 1s 193ms/step - loss: 0.0145 - accuracy: 0.9950 - val_loss: 1.2323 - val_accuracy: 0.8627\n",
      "Epoch 185/231\n",
      "7/7 [==============================] - 1s 202ms/step - loss: 0.0132 - accuracy: 0.9950 - val_loss: 1.4155 - val_accuracy: 0.8235\n",
      "Epoch 186/231\n",
      "7/7 [==============================] - 1s 202ms/step - loss: 0.0035 - accuracy: 1.0000 - val_loss: 1.3519 - val_accuracy: 0.8431\n",
      "Epoch 187/231\n",
      "7/7 [==============================] - 1s 197ms/step - loss: 0.0013 - accuracy: 1.0000 - val_loss: 1.4491 - val_accuracy: 0.8235\n",
      "Epoch 188/231\n",
      "7/7 [==============================] - 1s 194ms/step - loss: 0.0056 - accuracy: 0.9950 - val_loss: 1.4591 - val_accuracy: 0.8235\n",
      "Epoch 189/231\n",
      "7/7 [==============================] - 1s 200ms/step - loss: 0.0128 - accuracy: 0.9950 - val_loss: 1.4571 - val_accuracy: 0.8235\n",
      "Epoch 190/231\n",
      "7/7 [==============================] - 1s 196ms/step - loss: 0.0024 - accuracy: 1.0000 - val_loss: 2.0581 - val_accuracy: 0.7451\n",
      "Epoch 191/231\n",
      "7/7 [==============================] - 1s 201ms/step - loss: 0.0102 - accuracy: 0.9950 - val_loss: 1.6553 - val_accuracy: 0.7647\n",
      "Epoch 192/231\n",
      "7/7 [==============================] - 1s 217ms/step - loss: 0.0483 - accuracy: 0.9851 - val_loss: 1.2179 - val_accuracy: 0.8039\n",
      "Epoch 193/231\n",
      "7/7 [==============================] - 1s 198ms/step - loss: 0.0335 - accuracy: 0.9801 - val_loss: 1.9057 - val_accuracy: 0.7059\n",
      "Epoch 194/231\n",
      "7/7 [==============================] - 1s 193ms/step - loss: 0.0495 - accuracy: 0.9851 - val_loss: 0.9825 - val_accuracy: 0.8431\n",
      "Epoch 195/231\n",
      "7/7 [==============================] - 1s 200ms/step - loss: 0.0160 - accuracy: 0.9950 - val_loss: 1.0863 - val_accuracy: 0.8431\n",
      "Epoch 196/231\n",
      "7/7 [==============================] - 1s 194ms/step - loss: 0.0358 - accuracy: 0.9851 - val_loss: 1.2426 - val_accuracy: 0.8431\n",
      "Epoch 197/231\n",
      "7/7 [==============================] - 1s 199ms/step - loss: 0.0266 - accuracy: 0.9851 - val_loss: 1.3927 - val_accuracy: 0.7843\n",
      "Epoch 198/231\n",
      "7/7 [==============================] - 1s 201ms/step - loss: 0.0111 - accuracy: 1.0000 - val_loss: 1.4228 - val_accuracy: 0.7843\n",
      "Epoch 199/231\n",
      "7/7 [==============================] - 1s 217ms/step - loss: 0.0098 - accuracy: 0.9950 - val_loss: 1.2588 - val_accuracy: 0.8627\n",
      "Epoch 200/231\n",
      "7/7 [==============================] - 1s 198ms/step - loss: 0.0159 - accuracy: 0.9950 - val_loss: 1.4060 - val_accuracy: 0.7843\n",
      "Epoch 201/231\n",
      "7/7 [==============================] - 1s 197ms/step - loss: 0.0094 - accuracy: 0.9950 - val_loss: 1.0930 - val_accuracy: 0.8431\n",
      "Epoch 202/231\n",
      "7/7 [==============================] - 1s 218ms/step - loss: 0.0425 - accuracy: 0.9751 - val_loss: 1.2940 - val_accuracy: 0.8235\n",
      "Epoch 203/231\n",
      "7/7 [==============================] - 1s 192ms/step - loss: 0.0375 - accuracy: 0.9851 - val_loss: 1.8215 - val_accuracy: 0.8039\n",
      "Epoch 204/231\n",
      "7/7 [==============================] - 1s 219ms/step - loss: 0.1037 - accuracy: 0.9751 - val_loss: 1.8779 - val_accuracy: 0.7059\n",
      "Epoch 205/231\n",
      "7/7 [==============================] - 1s 198ms/step - loss: 0.0330 - accuracy: 0.9851 - val_loss: 1.5543 - val_accuracy: 0.7647\n",
      "Epoch 206/231\n",
      "7/7 [==============================] - 1s 196ms/step - loss: 0.0262 - accuracy: 0.9900 - val_loss: 1.5824 - val_accuracy: 0.7451\n",
      "Epoch 207/231\n",
      "7/7 [==============================] - 1s 200ms/step - loss: 0.0388 - accuracy: 0.9801 - val_loss: 1.4391 - val_accuracy: 0.7647\n",
      "Epoch 208/231\n",
      "7/7 [==============================] - 1s 194ms/step - loss: 0.0309 - accuracy: 0.9950 - val_loss: 1.7445 - val_accuracy: 0.7255\n",
      "Epoch 209/231\n",
      "7/7 [==============================] - 1s 199ms/step - loss: 0.0493 - accuracy: 0.9851 - val_loss: 1.0850 - val_accuracy: 0.8235\n",
      "Epoch 210/231\n",
      "7/7 [==============================] - 1s 193ms/step - loss: 0.0042 - accuracy: 1.0000 - val_loss: 1.2846 - val_accuracy: 0.8039\n",
      "Epoch 211/231\n",
      "7/7 [==============================] - 1s 200ms/step - loss: 0.0106 - accuracy: 1.0000 - val_loss: 1.6413 - val_accuracy: 0.7255\n",
      "Epoch 212/231\n",
      "7/7 [==============================] - 1s 197ms/step - loss: 0.0170 - accuracy: 0.9950 - val_loss: 1.8257 - val_accuracy: 0.7451\n",
      "Epoch 213/231\n",
      "7/7 [==============================] - 1s 202ms/step - loss: 0.0385 - accuracy: 0.9751 - val_loss: 1.2725 - val_accuracy: 0.8627\n",
      "Epoch 214/231\n",
      "7/7 [==============================] - 1s 201ms/step - loss: 0.0311 - accuracy: 0.9950 - val_loss: 1.0010 - val_accuracy: 0.8431\n",
      "Epoch 215/231\n",
      "7/7 [==============================] - 1s 199ms/step - loss: 0.0077 - accuracy: 0.9950 - val_loss: 1.4613 - val_accuracy: 0.8235\n",
      "Epoch 216/231\n",
      "7/7 [==============================] - 1s 219ms/step - loss: 0.0564 - accuracy: 0.9851 - val_loss: 1.6061 - val_accuracy: 0.7647\n",
      "Epoch 217/231\n",
      "7/7 [==============================] - 1s 199ms/step - loss: 0.0130 - accuracy: 0.9950 - val_loss: 1.4813 - val_accuracy: 0.7843\n",
      "Epoch 218/231\n",
      "7/7 [==============================] - 1s 196ms/step - loss: 0.0068 - accuracy: 1.0000 - val_loss: 1.1321 - val_accuracy: 0.8235\n",
      "Epoch 219/231\n",
      "7/7 [==============================] - 1s 199ms/step - loss: 0.0164 - accuracy: 0.9950 - val_loss: 1.3333 - val_accuracy: 0.8235\n",
      "Epoch 220/231\n",
      "7/7 [==============================] - 1s 201ms/step - loss: 0.0050 - accuracy: 1.0000 - val_loss: 1.7183 - val_accuracy: 0.7647\n",
      "Epoch 221/231\n",
      "7/7 [==============================] - 1s 200ms/step - loss: 0.0110 - accuracy: 0.9950 - val_loss: 1.0396 - val_accuracy: 0.8431\n",
      "Epoch 222/231\n",
      "7/7 [==============================] - 1s 206ms/step - loss: 0.0166 - accuracy: 0.9950 - val_loss: 1.1919 - val_accuracy: 0.8431\n",
      "Epoch 223/231\n",
      "7/7 [==============================] - 1s 198ms/step - loss: 0.0020 - accuracy: 1.0000 - val_loss: 1.6489 - val_accuracy: 0.7843\n",
      "Epoch 224/231\n",
      "7/7 [==============================] - 1s 199ms/step - loss: 0.0099 - accuracy: 0.9950 - val_loss: 1.6528 - val_accuracy: 0.7843\n",
      "Epoch 225/231\n",
      "7/7 [==============================] - 1s 195ms/step - loss: 0.0211 - accuracy: 0.9950 - val_loss: 1.2134 - val_accuracy: 0.8235\n",
      "Epoch 226/231\n",
      "7/7 [==============================] - 1s 205ms/step - loss: 0.0308 - accuracy: 0.9900 - val_loss: 1.3151 - val_accuracy: 0.8235\n",
      "Epoch 227/231\n",
      "7/7 [==============================] - 1s 200ms/step - loss: 0.0027 - accuracy: 1.0000 - val_loss: 2.8809 - val_accuracy: 0.7059\n",
      "Epoch 228/231\n",
      "7/7 [==============================] - 1s 199ms/step - loss: 0.0095 - accuracy: 1.0000 - val_loss: 2.0392 - val_accuracy: 0.6863\n",
      "Epoch 229/231\n",
      "7/7 [==============================] - 1s 197ms/step - loss: 0.0032 - accuracy: 1.0000 - val_loss: 1.5327 - val_accuracy: 0.7843\n",
      "Epoch 230/231\n"
     ]
    },
    {
     "name": "stdout",
     "output_type": "stream",
     "text": [
      "7/7 [==============================] - 1s 197ms/step - loss: 0.0051 - accuracy: 1.0000 - val_loss: 1.4667 - val_accuracy: 0.8039\n",
      "Epoch 231/231\n",
      "7/7 [==============================] - 1s 191ms/step - loss: 9.8026e-04 - accuracy: 1.0000 - val_loss: 1.5206 - val_accuracy: 0.8039\n"
     ]
    },
    {
     "data": {
      "text/plain": [
       "<tensorflow.python.keras.callbacks.History at 0x7f22d5a83ee0>"
      ]
     },
     "execution_count": 20,
     "metadata": {},
     "output_type": "execute_result"
    }
   ],
   "source": [
    "cnn.fit(x=training_set, validation_data=test_set, epochs=231)"
   ]
  },
  {
   "cell_type": "markdown",
   "id": "38757121",
   "metadata": {},
   "source": [
    "# Making a Single prediction"
   ]
  },
  {
   "cell_type": "code",
   "execution_count": 107,
   "id": "85587e0c",
   "metadata": {},
   "outputs": [],
   "source": [
    "import numpy as np\n",
    "from tensorflow.keras.preprocessing import image\n",
    "import matplotlib.pyplot as plt\n",
    "import time"
   ]
  },
  {
   "cell_type": "code",
   "execution_count": 186,
   "id": "22bd9a59",
   "metadata": {},
   "outputs": [],
   "source": [
    "test_image = image.load_img('dataset/single_prediction/cool.jpg', target_size=(64,64))"
   ]
  },
  {
   "cell_type": "code",
   "execution_count": 187,
   "id": "6f9d7603",
   "metadata": {},
   "outputs": [
    {
     "data": {
      "text/plain": [
       "<matplotlib.image.AxesImage at 0x7f228d6809a0>"
      ]
     },
     "execution_count": 187,
     "metadata": {},
     "output_type": "execute_result"
    },
    {
     "data": {
      "image/png": "[encoded data removed]",
      "text/plain": [
       "<Figure size 432x288 with 1 Axes>"
      ]
     },
     "metadata": {
      "needs_background": "light"
     },
     "output_type": "display_data"
    }
   ],
   "source": [
    "img = image.load_img('dataset/single_prediction/cool.jpg')\n",
    "plt.title('cool')\n",
    "plt.imshow(img)"
   ]
  },
  {
   "cell_type": "code",
   "execution_count": 188,
   "id": "290a4676",
   "metadata": {},
   "outputs": [],
   "source": [
    "test_image = image.img_to_array(test_image)"
   ]
  },
  {
   "cell_type": "code",
   "execution_count": 189,
   "id": "3a9bb63d",
   "metadata": {},
   "outputs": [],
   "source": [
    "test_image = np.expand_dims(test_image, axis=0)"
   ]
  },
  {
   "cell_type": "code",
   "execution_count": 190,
   "id": "cf5114fc",
   "metadata": {},
   "outputs": [],
   "source": [
    "result = cnn.predict(test_image)"
   ]
  },
  {
   "cell_type": "code",
   "execution_count": 193,
   "id": "d940bc38",
   "metadata": {},
   "outputs": [],
   "source": [
    "if result[0][0] == 1:\n",
    "    pridict = 'no tumor detected'\n",
    "else:\n",
    "    pridict = 'tumour detected'"
   ]
  },
  {
   "cell_type": "code",
   "execution_count": 194,
   "id": "45139c4d",
   "metadata": {},
   "outputs": [
    {
     "data": {
      "text/plain": [
       "'tumour detected'"
      ]
     },
     "execution_count": 194,
     "metadata": {},
     "output_type": "execute_result"
    }
   ],
   "source": [
    "pridict"
   ]
  }
 ],
 "metadata": {
  "kernelspec": {
   "display_name": "Python 3",
   "language": "python",
   "name": "python3"
  },
  "language_info": {
   "codemirror_mode": {
    "name": "ipython",
    "version": 3
   },
   "file_extension": ".py",
   "mimetype": "text/x-python",
   "name": "python",
   "nbconvert_exporter": "python",
   "pygments_lexer": "ipython3",
   "version": "3.8.10"
  }
 },
 "nbformat": 4,
 "nbformat_minor": 5
}
